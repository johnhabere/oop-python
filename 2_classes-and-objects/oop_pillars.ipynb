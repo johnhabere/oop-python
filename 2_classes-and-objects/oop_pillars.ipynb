{
 "cells": [
  {
   "cell_type": "code",
   "execution_count": 10,
   "id": "1278b111",
   "metadata": {},
   "outputs": [],
   "source": [
    "class Rolex:\n",
    "    chapati_size: str\n",
    "    number_eggs: int\n",
    "    toppings: bool = False\n",
    "    withSalt: bool = True\n",
    "    \n",
    "    def __init__(self, chapati_size: str, number_eggs: int, toppings):\n",
    "        self.chapati_size = chapati_size\n",
    "        self.number_eggs = number_eggs\n",
    "        self.toppings = toppings\n",
    "\n",
    "    def price(self, tax: float) -> float:\n",
    "        total: float = 0.0\n",
    "        if self.chapati_size == \"large\":\n",
    "            total += 3000\n",
    "        elif self.chapati_size == \"medium\":\n",
    "            total += 2000\n",
    "        else:\n",
    "            total += 1000\n",
    "        total += self.number_eggs * 500\n",
    "        if self.toppings:\n",
    "            total += 500\n",
    "        total *= tax\n",
    "        return total"
   ]
  },
  {
   "cell_type": "code",
   "execution_count": 2,
   "id": "fc8ff0c5",
   "metadata": {},
   "outputs": [
    {
     "name": "stdout",
     "output_type": "stream",
     "text": [
      "<__main__.Rolex object at 0x000002526C626B20>\n"
     ]
    }
   ],
   "source": [
    "rolex_a = Rolex(\"medium\", 3)\n",
    "print(rolex_a)"
   ]
  },
  {
   "cell_type": "code",
   "execution_count": 3,
   "id": "fefa0f18",
   "metadata": {},
   "outputs": [
    {
     "name": "stdout",
     "output_type": "stream",
     "text": [
      "<class '__main__.Rolex'>\n"
     ]
    }
   ],
   "source": [
    "print(Rolex)"
   ]
  },
  {
   "cell_type": "code",
   "execution_count": 12,
   "id": "35382502",
   "metadata": {},
   "outputs": [
    {
     "name": "stdout",
     "output_type": "stream",
     "text": [
      "<__main__.Rolex object at 0x000002526C6FD760>\n"
     ]
    }
   ],
   "source": [
    "rolex_b = Rolex(\"large\", 2, True)\n",
    "print(rolex_b)"
   ]
  },
  {
   "cell_type": "code",
   "execution_count": 6,
   "id": "bb772e56",
   "metadata": {},
   "outputs": [
    {
     "name": "stdout",
     "output_type": "stream",
     "text": [
      "large\n"
     ]
    }
   ],
   "source": [
    "print(rolex_b.chapati_size)"
   ]
  },
  {
   "cell_type": "code",
   "execution_count": 13,
   "id": "7ea834cb",
   "metadata": {},
   "outputs": [
    {
     "name": "stdout",
     "output_type": "stream",
     "text": [
      "5310.0\n"
     ]
    }
   ],
   "source": [
    "print(rolex_b.price(1.18))"
   ]
  },
  {
   "cell_type": "code",
   "execution_count": 14,
   "id": "dc55178c",
   "metadata": {},
   "outputs": [],
   "source": [
    "class Rolex:\n",
    "    chapati_size: str\n",
    "    number_eggs: int\n",
    "    toppings: []\n",
    "    withSalt: bool = True\n",
    "    \n",
    "    def __init__(self, chapati_size: str, number_eggs: int, toppings):\n",
    "        self.chapati_size = chapati_size\n",
    "        self.number_eggs = number_eggs\n",
    "        self.toppings = toppings\n",
    "    \n",
    "    def __repr__(self):\n",
    "        return f\"Rolex toppings are: {', '.join(self.toppings)}\""
   ]
  },
  {
   "cell_type": "code",
   "execution_count": 19,
   "id": "75ac8df0",
   "metadata": {},
   "outputs": [
    {
     "name": "stdout",
     "output_type": "stream",
     "text": [
      "Rolex toppings are: tomatoes, cabbage, onions\n"
     ]
    }
   ],
   "source": [
    "rolex = Rolex(\"large\", 3, [\"tomatoes\", \"cabbage\", \"onions\"])\n",
    "print(rolex)"
   ]
  },
  {
   "cell_type": "markdown",
   "id": "caf5b6eb",
   "metadata": {},
   "source": [
    "## Inheritance"
   ]
  },
  {
   "cell_type": "code",
   "execution_count": 16,
   "id": "c1c98bb4",
   "metadata": {},
   "outputs": [],
   "source": [
    "class SpecilaRolex(Rolex):\n",
    "    def __init__(self, toppings, extraToppings):\n",
    "        super().__init__(\"large\", 3,toppings)\n",
    "        self.extraToppings = extraToppings\n",
    "        \n",
    "    def __repr__(self):\n",
    "        return f\"Special Rolex with toppings: {', '.join(self.toppings)}, and extra toppings: {', '.join(self.extraToppings)}\""
   ]
  },
  {
   "cell_type": "code",
   "execution_count": 20,
   "id": "3e2e2461",
   "metadata": {},
   "outputs": [
    {
     "name": "stdout",
     "output_type": "stream",
     "text": [
      "Special Rolex with toppings: tomatoes, cabbage, and extra toppings: cheese, onions, sukumaweek\n"
     ]
    }
   ],
   "source": [
    "specialRolex = SpecilaRolex([\"tomatoes\", \"cabbage\"], [\"cheese\", \"onions\", \"sukumaweek\"])\n",
    "print(specialRolex)"
   ]
  },
  {
   "cell_type": "markdown",
   "id": "a341e07a",
   "metadata": {},
   "source": [
    "## Polymorphism"
   ]
  },
  {
   "cell_type": "code",
   "execution_count": 21,
   "id": "4f993e47",
   "metadata": {},
   "outputs": [
    {
     "name": "stdout",
     "output_type": "stream",
     "text": [
      "Rolex toppings are: tomatoes, cabbage, onions\n",
      "Special Rolex with toppings: tomatoes, cabbage, and extra toppings: cheese, onions, sukumaweek\n"
     ]
    }
   ],
   "source": [
    "def rolexPoly(rolex):\n",
    "    print(rolex)\n",
    "    \n",
    "rolexPoly(rolex)\n",
    "rolexPoly(specialRolex)"
   ]
  },
  {
   "cell_type": "markdown",
   "id": "4a528c22",
   "metadata": {},
   "source": [
    "## Encapsulation"
   ]
  },
  {
   "cell_type": "code",
   "execution_count": 28,
   "id": "33d6ba8d",
   "metadata": {},
   "outputs": [],
   "source": [
    "class Rolexx:\n",
    "    def __init__(self, toppings):\n",
    "        self.__toppings = toppings\n",
    "    \n",
    "    def __repr__(self):\n",
    "        return f\"Rolex x toppings are: {', '.join(self.__toppings)}\"\n",
    "    \n",
    "    #gettter\n",
    "    def get_toopings(self):\n",
    "        return self.__toppings\n",
    "    \n",
    "    #setter\n",
    "    def set_toppings(self, topping):\n",
    "        self.__toppings.append(topping)\n",
    "    "
   ]
  },
  {
   "cell_type": "code",
   "execution_count": 29,
   "id": "b64cc00f",
   "metadata": {},
   "outputs": [
    {
     "name": "stdout",
     "output_type": "stream",
     "text": [
      "Rolex x toppings are: tomatoes, onions\n"
     ]
    }
   ],
   "source": [
    "rolexx = Rolexx([\"tomatoes\", \"onions\"])\n",
    "print(rolexx)"
   ]
  },
  {
   "cell_type": "code",
   "execution_count": 30,
   "id": "35c0db8d",
   "metadata": {},
   "outputs": [
    {
     "name": "stdout",
     "output_type": "stream",
     "text": [
      "['tomatoes', 'onions']\n"
     ]
    }
   ],
   "source": [
    "print(rolexx.get_toopings())\n"
   ]
  },
  {
   "cell_type": "code",
   "execution_count": 31,
   "id": "0ffc8068",
   "metadata": {},
   "outputs": [
    {
     "name": "stdout",
     "output_type": "stream",
     "text": [
      "Rolex x toppings are: tomatoes, onions, sukuma week\n"
     ]
    }
   ],
   "source": [
    "rolexx.set_toppings(\"sukuma week\")\n",
    "print(rolexx)"
   ]
  },
  {
   "cell_type": "markdown",
   "id": "31a13d86",
   "metadata": {},
   "source": [
    "## Abstraction"
   ]
  },
  {
   "cell_type": "code",
   "execution_count": 36,
   "id": "08cb0245",
   "metadata": {},
   "outputs": [],
   "source": [
    "class Rolexz:\n",
    "    def __init__(self, toppings):\n",
    "        self.toppings = toppings\n",
    "        \n",
    "    def __repr__(self):\n",
    "        return f\"Rolex x toppings are: {', '.join(self.toppings)}\""
   ]
  },
  {
   "cell_type": "code",
   "execution_count": 37,
   "id": "36e3cb15",
   "metadata": {},
   "outputs": [
    {
     "name": "stdout",
     "output_type": "stream",
     "text": [
      "Rolex x toppings are: onions, cheese, tomatoes\n"
     ]
    }
   ],
   "source": [
    "rolexz = Rolexz([\"onions\", \"cheese\", \"tomatoes\"])\n",
    "print(rolexz)"
   ]
  },
  {
   "cell_type": "markdown",
   "id": "9f9e1b94",
   "metadata": {},
   "source": [
    "## Overloading / Overriding"
   ]
  },
  {
   "cell_type": "code",
   "execution_count": 38,
   "id": "b7f0c54e",
   "metadata": {},
   "outputs": [],
   "source": [
    "class Rolexz:\n",
    "    def __init__(self, toppings):\n",
    "        self.toppings = toppings\n",
    "        \n",
    "    def __repr__(self):\n",
    "        return f\"Rolex x toppings are: {', '.join(self.toppings)}\""
   ]
  },
  {
   "cell_type": "code",
   "execution_count": 39,
   "id": "c045c7bc",
   "metadata": {},
   "outputs": [
    {
     "name": "stdout",
     "output_type": "stream",
     "text": [
      "Rolex x toppings are: onions, cheese, tomatoes\n"
     ]
    }
   ],
   "source": [
    "rolexz = Rolexz([\"onions\", \"cheese\", \"tomatoes\"])\n",
    "print(rolexz)"
   ]
  },
  {
   "cell_type": "code",
   "execution_count": 42,
   "id": "dcac015d",
   "metadata": {},
   "outputs": [
    {
     "name": "stdout",
     "output_type": "stream",
     "text": [
      "Rolex x toppings are: o, n, i, o, n, s\n"
     ]
    }
   ],
   "source": [
    "rolexz = Rolexz(\"onions\")\n",
    "print(rolexz)"
   ]
  },
  {
   "cell_type": "markdown",
   "id": "a7a22a55",
   "metadata": {},
   "source": [
    "## More on Functions and Arguments"
   ]
  },
  {
   "cell_type": "code",
   "execution_count": 45,
   "id": "087050ac",
   "metadata": {},
   "outputs": [
    {
     "data": {
      "text/plain": [
       "60"
      ]
     },
     "execution_count": 45,
     "metadata": {},
     "output_type": "execute_result"
    }
   ],
   "source": [
    "def myArgs(x, y=10): ## default parameter\n",
    "    return x+y \n",
    "\n",
    "myArgs(50)"
   ]
  },
  {
   "cell_type": "code",
   "execution_count": 46,
   "id": "c0798047",
   "metadata": {},
   "outputs": [
    {
     "name": "stdout",
     "output_type": "stream",
     "text": [
      "<class 'tuple'>\n"
     ]
    },
    {
     "data": {
      "text/plain": [
       "(1, 'class', 12, 5.7)"
      ]
     },
     "execution_count": 46,
     "metadata": {},
     "output_type": "execute_result"
    }
   ],
   "source": [
    "def myArgs(*items): # arguments - tuple\n",
    "    print(type(items))\n",
    "    return items\n",
    "\n",
    "myArgs(1, \"class\", 12, 5.7)\n"
   ]
  },
  {
   "cell_type": "code",
   "execution_count": 47,
   "id": "55b5db29",
   "metadata": {},
   "outputs": [
    {
     "name": "stdout",
     "output_type": "stream",
     "text": [
      "<class 'dict'>\n"
     ]
    },
    {
     "data": {
      "text/plain": [
       "{'x': 12, 'y': 10, 'z': 35}"
      ]
     },
     "execution_count": 47,
     "metadata": {},
     "output_type": "execute_result"
    }
   ],
   "source": [
    "def myArgs(**items): ## default parameter\n",
    "    print(type(items))\n",
    "    return items\n",
    "\n",
    "myArgs(x=12, y=10, z=35)\n",
    "\n",
    "# def myArgs(**args):\n",
    "#     pass\n",
    "\n",
    "# def myArgs(**kwargs):\n",
    "#     pass"
   ]
  },
  {
   "cell_type": "code",
   "execution_count": 49,
   "id": "068847af",
   "metadata": {},
   "outputs": [
    {
     "data": {
      "text/plain": [
       "function"
      ]
     },
     "execution_count": 49,
     "metadata": {},
     "output_type": "execute_result"
    }
   ],
   "source": [
    "def myfcn(arg):\n",
    "    return arg\n",
    "\n",
    "type(myfcn)"
   ]
  },
  {
   "cell_type": "code",
   "execution_count": 51,
   "id": "35405cca",
   "metadata": {},
   "outputs": [
    {
     "name": "stdout",
     "output_type": "stream",
     "text": [
      "\n",
      "    all stuff in python\n",
      "    is object\n",
      "    even if it is a variable\n",
      "    i repeat everything\n",
      "    \n",
      "    \n"
     ]
    }
   ],
   "source": [
    "def myArgs():\n",
    "    \"\"\"\n",
    "    all stuff in python\n",
    "    is object\n",
    "    even if it is a variable\n",
    "    i repeat everything\n",
    "    \n",
    "    \"\"\"\n",
    "    pass\n",
    "\n",
    "print(myArgs.__doc__)"
   ]
  },
  {
   "cell_type": "code",
   "execution_count": 52,
   "id": "7428763d",
   "metadata": {},
   "outputs": [],
   "source": [
    "def mydecorator(func):\n",
    "    def wrapper():\n",
    "        ...\n",
    "        func()\n",
    "        ...\n",
    "    return wrapper"
   ]
  },
  {
   "cell_type": "code",
   "execution_count": 57,
   "id": "56a99f92",
   "metadata": {},
   "outputs": [
    {
     "name": "stdout",
     "output_type": "stream",
     "text": [
      "hello decorator\n",
      "Yes there!!\n",
      "Done!\n"
     ]
    }
   ],
   "source": [
    "def mydeco(func):\n",
    "    def wrapper():\n",
    "        print(\"hello decorator\")\n",
    "        func()\n",
    "        print(\"Done!\")\n",
    "    return wrapper\n",
    "\n",
    "def hellodeco():\n",
    "    print(\"Yes there!!\")\n",
    "    \n",
    "hello = mydeco(hellodeco)\n",
    "\n",
    "hello()"
   ]
  },
  {
   "cell_type": "code",
   "execution_count": 70,
   "id": "2d4eb2db",
   "metadata": {},
   "outputs": [],
   "source": [
    "def mydeco(func):\n",
    "    def wrapper():\n",
    "        print(\"hello decorator\")\n",
    "        func() # all function output is here\n",
    "        print(\"Done!\")\n",
    "    return wrapper"
   ]
  },
  {
   "cell_type": "code",
   "execution_count": 71,
   "id": "fb96cfb4",
   "metadata": {},
   "outputs": [
    {
     "name": "stdout",
     "output_type": "stream",
     "text": [
      "hello decorator\n",
      "Yes there!!\n",
      "Done!\n"
     ]
    }
   ],
   "source": [
    "@mydeco\n",
    "def hellodeco():\n",
    "    print(\"Yes there!!\")\n",
    "\n",
    "hellodeco()"
   ]
  },
  {
   "cell_type": "code",
   "execution_count": null,
   "id": "19c2e8ca",
   "metadata": {},
   "outputs": [],
   "source": []
  }
 ],
 "metadata": {
  "kernelspec": {
   "display_name": "Python 3 (ipykernel)",
   "language": "python",
   "name": "python3"
  },
  "language_info": {
   "codemirror_mode": {
    "name": "ipython",
    "version": 3
   },
   "file_extension": ".py",
   "mimetype": "text/x-python",
   "name": "python",
   "nbconvert_exporter": "python",
   "pygments_lexer": "ipython3",
   "version": "3.9.13"
  }
 },
 "nbformat": 4,
 "nbformat_minor": 5
}
